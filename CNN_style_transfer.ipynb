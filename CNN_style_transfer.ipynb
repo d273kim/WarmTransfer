{
  "nbformat": 4,
  "nbformat_minor": 0,
  "metadata": {
    "colab": {
      "name": "CNN_style_transfer.ipynb의 사본",
      "provenance": [],
      "collapsed_sections": [],
      "include_colab_link": true
    },
    "kernelspec": {
      "name": "python3",
      "display_name": "Python 3"
    },
    "language_info": {
      "name": "python"
    },
    "accelerator": "GPU"
  },
  "cells": [
    {
      "cell_type": "markdown",
      "metadata": {
        "id": "view-in-github",
        "colab_type": "text"
      },
      "source": [
        "<a href=\"https://colab.research.google.com/github/kdhdr1/WarmTransfer/blob/main/CNN_style_transfer.ipynb\" target=\"_parent\"><img src=\"https://colab.research.google.com/assets/colab-badge.svg\" alt=\"Open In Colab\"/></a>"
      ]
    },
    {
      "cell_type": "code",
      "metadata": {
        "id": "JkWrug8T8F77",
        "colab": {
          "base_uri": "https://localhost:8080/"
        },
        "outputId": "44392f96-9c8c-42f6-dff3-36ce56b2b06d"
      },
      "source": [
        "%tensorflow_version 1.x"
      ],
      "execution_count": null,
      "outputs": [
        {
          "output_type": "stream",
          "name": "stdout",
          "text": [
            "TensorFlow 1.x selected.\n"
          ]
        }
      ]
    },
    {
      "cell_type": "code",
      "metadata": {
        "colab": {
          "base_uri": "https://localhost:8080/"
        },
        "id": "0J4QNyIM_YZ5",
        "outputId": "9e4b9010-b2ab-4ee0-f1eb-fe8d541df19a"
      },
      "source": [
        "# 학습 완료한 파일 연동을 위한 drive mount\n",
        "from google.colab import drive\n",
        "drive.mount('/content/drive')"
      ],
      "execution_count": null,
      "outputs": [
        {
          "output_type": "stream",
          "name": "stdout",
          "text": [
            "Mounted at /content/drive\n"
          ]
        }
      ]
    },
    {
      "cell_type": "code",
      "metadata": {
        "colab": {
          "base_uri": "https://localhost:8080/"
        },
        "id": "ISNmBDId7cbq",
        "outputId": "a1432195-0a66-49e6-a351-5804e0eb2402"
      },
      "source": [
        "from __future__ import print_function\n",
        "import numpy as np\n",
        "from PIL import Image\n",
        "import time\n",
        " \n",
        "from keras.applications.vgg16 import VGG16\n",
        " \n",
        "from keras import backend\n",
        "from keras.models import Model\n",
        "from scipy.optimize import fmin_l_bfgs_b\n",
        " \n",
        "\n",
        "height = 512\n",
        "width = 512\n",
        " \n",
        "# 이미지를 불러오고 사이즈를 바꿉니다.\n",
        "content_image = Image.open('/content/drive/MyDrive/project/img/image/69996.png')\n",
        "content_image = content_image.resize((width, height))\n",
        " \n",
        "style_image = Image.open('/content/drive/MyDrive/project/img/image/source_6.jpg')\n",
        "style_image = style_image.resize((width, height))\n",
        " \n",
        "# 이미지의 픽셀 데이터를 얻어오고 차원을 하나 추가합니다.\n",
        "# 만약 채널이 4개면 마지막 채널을 제거합니다.\n",
        "content_array = np.asarray(content_image, dtype='float32')\n",
        "if (content_array.shape[2] == 4):\n",
        "  content_array = content_array[:, :, :-1]\n",
        "content_array = np.expand_dims(content_array, axis=0)\n",
        " \n",
        "style_array = np.asarray(style_image, dtype='float32')\n",
        "if (style_array.shape[2] == 4):\n",
        "  style_array = style_array[:, :, :-1]\n",
        "style_array = np.expand_dims(style_array, axis=0)\n",
        " \n",
        "print(content_array.shape)\n",
        "print(style_array.shape)\n",
        " \n",
        "# 이미지 데이터를 전처리 합니다.\n",
        "def subtract_mean_rgb(img_arr):\n",
        "  img_arr[:, :, :, 0] -= 103.939\n",
        "  img_arr[:, :, :, 1] -= 116.779\n",
        "  img_arr[:, :, :, 2] -= 123.68\n",
        "  return img_arr[:, :, :, ::-1]\n",
        " \n",
        "content_array = subtract_mean_rgb(content_array)\n",
        "style_array = subtract_mean_rgb(style_array)\n",
        " \n",
        "# 이미지 데이터를 케라스 변수로 만듭니다.\n",
        "content_image = backend.variable(content_array)\n",
        "style_image = backend.variable(style_array)\n",
        "combination_image = backend.placeholder((1, height, width, 3))\n",
        " \n",
        "# 신경망에 실제로 넣을 데이터를 만듭니다.\n",
        "input_tensor = backend.concatenate([content_image, style_image, combination_image], axis=0)\n",
        "print(input_tensor.shape)\n",
        " \n",
        "# 모델을 불러옵니다.\n",
        "model = VGG16(input_tensor=input_tensor, weights='imagenet', include_top=False)\n",
        " \n",
        "# 스타일 변환 매개변수 선언.\n",
        "content_weight = 0.05\n",
        "style_weight = 5.0\n",
        "total_variation_weight = 1.0\n",
        " \n",
        "# 모델의 여러 레이어에서 값을 사용할 것이므로 미리 모든 레이어를 가져옴.\n",
        "layers = dict([(layer.name, layer.output) for layer in model.layers])\n",
        " \n",
        "# 전체 손실을 담을 변수 선언.\n",
        "loss = backend.variable(0.0)\n",
        " \n",
        "# Content 손실 함수(MSE)\n",
        "def content_loss(content, combination):\n",
        "  return backend.sum(backend.square(content - combination))\n",
        " \n",
        "# Content 손실을 계산합니다.\n",
        "# block2_conv2는 VGG의 2-2번째 합성곱 + Relu 계층입니다.\n",
        "# 어떤 계층을 사용할지는 하이퍼 파리미터입니다.\n",
        "layer_features = layers['block2_conv2']\n",
        "content_image_features = layer_features[0, :, :, :]\n",
        "combination_features = layer_features[2, :, :, :]\n",
        "loss = loss + content_weight * content_loss(content_image_features, combination_features)\n",
        " \n",
        "# 이미지에서 스타일에만 집중하도록 그람 행렬을 사용합니다.\n",
        "def gram_matrix(x):\n",
        "  features = backend.batch_flatten(backend.permute_dimensions(x, (2, 0, 1)))\n",
        "  gram = backend.dot(features, backend.transpose(features))\n",
        "  return gram\n",
        " \n",
        "# Style 손실 함수\n",
        "def style_loss(style, combination):\n",
        "  S = gram_matrix(style)\n",
        "  C = gram_matrix(combination)\n",
        "  channels = 3\n",
        "  size = height * width\n",
        "  st = backend.sum(backend.square(S - C)) / (4. * (channels ** 2) * (size ** 2))\n",
        "  return st\n",
        " \n",
        "# 스타일 손실을 계산할 계층\n",
        "feature_layers = ['block1_conv2', 'block2_conv2',\n",
        "                  'block3_conv3', 'block4_conv3',\n",
        "                  'block5_conv3']\n",
        " \n",
        "# 스타일 손실을 계산합니다.\n",
        "for layer_name in feature_layers:\n",
        "  layer_features = layers[layer_name]\n",
        "  style_features = layer_features[1, :, :, :]\n",
        "  combination_features = layer_features[2, :, :, :]\n",
        "  sl = style_loss(style_features, combination_features)\n",
        "  loss = loss + (style_weight / len(feature_layers)) * sl\n",
        " \n",
        "# 결과 이미지의 노이즈를 조절하기 위한 손실 함수\n",
        "def total_variation_loss(x):\n",
        "  a = backend.square(x[:, :height-1, :width-1, :] - x[:, 1:, :width-1, :])\n",
        "  b = backend.square(x[:, :height-1, :width-1, :] - x[:, :height-1, 1:, :])\n",
        "  return backend.sum(backend.pow(a + b, 1.25))\n",
        "loss = loss + total_variation_weight * total_variation_loss(combination_image)\n",
        " \n",
        "# 학습을 위해 경사도를 계산합니다.\n",
        "grads = backend.gradients(loss, combination_image)\n",
        " \n",
        "# scipy.optimize는 Loss와 Grads를 따로 요구하는데\n",
        "# 따로 계산하는건 비효율적이므로 아래 코드가 사용됨.\n",
        "outputs = [loss]\n",
        "if isinstance(grads, (list, tuple)):\n",
        "  outputs += grads\n",
        "else:\n",
        "  outputs.append(grads)\n",
        "f_outputs = backend.function([combination_image], outputs)\n",
        " \n",
        "def eval_loss_and_grads(x):\n",
        "  x = x.reshape((1, height, width, 3))\n",
        "  outs = f_outputs([x])\n",
        "  loss_value = outs[0]\n",
        "  grad_values = outs[1].flatten().astype('float64')\n",
        "  return loss_value, grad_values\n",
        " \n",
        "class Evaluator(object):\n",
        "  def __init__(self):\n",
        "    self.loss_value = None\n",
        "    self.grads_values = None\n",
        "    \n",
        "  def loss(self, x):\n",
        "    assert self.loss_value is None\n",
        "    loss_value, grad_values = eval_loss_and_grads(x)\n",
        "    self.loss_value = loss_value\n",
        "    self.grad_values = grad_values\n",
        "    return self.loss_value\n",
        " \n",
        "  def grads(self, x):\n",
        "    assert self.loss_value is not None\n",
        "    grad_values = np.copy(self.grad_values)\n",
        "    self.loss_value = None\n",
        "    self.grad_values = None\n",
        "    return grad_values\n",
        "  \n",
        "evaluator = Evaluator()\n",
        " \n",
        "# 노이즈 이미지 데이터 생성.\n",
        "x = np.random.uniform(0, 255, (1, height, width, 3)) - 128.0\n",
        " \n",
        "# 학습 진행.\n",
        "iterations = 2\n",
        "for i in range(iterations):\n",
        "  print('Start of iteration', i)\n",
        "  start_time = time.time()\n",
        "  x, min_val, info = fmin_l_bfgs_b(evaluator.loss, x.flatten(),\n",
        "                                   fprime=evaluator.grads, maxfun=20)\n",
        "  print(min_val)\n",
        "  end_time = time.time()\n",
        "  print('Iteration %d completed in %ds' % (i, end_time - start_time))\n",
        "  \n",
        "# 결과 데이터를 이미지로 바꾸기 위한 처리.\n",
        "x = x.reshape((height, width, 3))\n",
        "x = x[:, :, ::-1]\n",
        "x[:, :, 0] += 103.939\n",
        "x[:, :, 1] += 116.779\n",
        "x[:, :, 2] += 123.68\n",
        "x = np.clip(x, 0, 255).astype('uint8')\n",
        " \n",
        "result_img = Image.fromarray(x)\n",
        "result_img.save(\"/content/drive/MyDrive/project/img/image/result_iter2_6_1.png\")"
      ],
      "execution_count": null,
      "outputs": [
        {
          "output_type": "stream",
          "name": "stdout",
          "text": [
            "(1, 512, 512, 3)\n",
            "(1, 512, 512, 3)\n",
            "(3, 512, 512, 3)\n",
            "Start of iteration 0\n",
            "74663780000.0\n",
            "Iteration 0 completed in 15s\n",
            "Start of iteration 1\n",
            "30527721000.0\n",
            "Iteration 1 completed in 14s\n"
          ]
        }
      ]
    },
    {
      "cell_type": "code",
      "metadata": {
        "id": "Wtk6Lebu-_5Y"
      },
      "source": [
        "result_img = result_img.resize((6798, 4625))"
      ],
      "execution_count": null,
      "outputs": []
    },
    {
      "cell_type": "code",
      "metadata": {
        "id": "vc4CaYzxA1qQ"
      },
      "source": [
        "result_img.save(\"/content/drive/MyDrive/project/img/image/result_iter2_6_1.png\")"
      ],
      "execution_count": null,
      "outputs": []
    }
  ]
}